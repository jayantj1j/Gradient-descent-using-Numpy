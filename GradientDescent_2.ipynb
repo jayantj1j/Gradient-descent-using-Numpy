{
 "cells": [
  {
   "cell_type": "code",
   "execution_count": 2,
   "metadata": {},
   "outputs": [],
   "source": [
    "import numpy as np"
   ]
  },
  {
   "cell_type": "code",
   "execution_count": 3,
   "metadata": {},
   "outputs": [
    {
     "data": {
      "text/plain": [
       "(150, 4)"
      ]
     },
     "execution_count": 3,
     "metadata": {},
     "output_type": "execute_result"
    }
   ],
   "source": [
    "data = np.loadtxt(\"C:\\\\Users\\\\Jayant\\\\Desktop\\\\datasets\\\\gr.csv\", delimiter=\",\")\n",
    "data.shape"
   ]
  },
  {
   "cell_type": "code",
   "execution_count": 4,
   "metadata": {},
   "outputs": [],
   "source": [
    "def step_gradient(points, learning_rate, m , c):\n",
    "    m_slope = 0\n",
    "    c_slope = 0\n",
    "    M = len(points)\n",
    "    for i in range(M):\n",
    "        x = points[i, 0]\n",
    "        y = points[i, 1]\n",
    "        m_slope += (-2/M)* (y - m * x - c)*x\n",
    "        c_slope += (-2/M)* (y - m * x - c)\n",
    "    new_m = m - learning_rate*m_slope\n",
    "    new_c = c - learning_rate*c_slope\n",
    "    return new_m, new_c"
   ]
  },
  {
   "cell_type": "code",
   "execution_count": 5,
   "metadata": {},
   "outputs": [],
   "source": [
    "def gd(points, learning_rate, num_iterations):\n",
    "    m = 0\n",
    "    c = 0\n",
    "    for i in range(num_iterations):\n",
    "        m, c = step_gradient(points, learning_rate, m , c)\n",
    "        print(i, \" Cost: \", cost(points, m, c))\n",
    "    return m, c"
   ]
  },
  {
   "cell_type": "code",
   "execution_count": 6,
   "metadata": {},
   "outputs": [],
   "source": [
    "def cost(points, m, c):\n",
    "    total_cost = 0\n",
    "    M = len(points)\n",
    "    for i in range(M):\n",
    "        \n",
    "        x = points[i, 0]\n",
    "        y = points[i, 1]\n",
    "        total_cost += (1/M)*((y - m*x - c)**2)\n",
    "    return total_cost"
   ]
  },
  {
   "cell_type": "code",
   "execution_count": 7,
   "metadata": {},
   "outputs": [],
   "source": [
    "def run():\n",
    "    data = np.loadtxt(\"C:\\\\Users\\\\Jayant\\\\Desktop\\\\datasets\\\\gr.csv\", delimiter=\",\")\n",
    "    learning_rate = 0.0001\n",
    "    num_iterations = 100\n",
    "    m, c = gd(data, learning_rate, num_iterations)\n",
    "    print(m, c)"
   ]
  },
  {
   "cell_type": "code",
   "execution_count": null,
   "metadata": {},
   "outputs": [],
   "source": [
    "data = np.loadtxt(\"C:\\\\Users\\\\Jayant\\\\Desktop\\\\datasets\\\\gr.csv\", delimiter=\",\")\n",
    "data\n"
   ]
  },
  {
   "cell_type": "code",
   "execution_count": 8,
   "metadata": {},
   "outputs": [
    {
     "name": "stdout",
     "output_type": "stream",
     "text": [
      "0  Cost:  9.383574333607047\n",
      "1  Cost:  9.255338573587968\n",
      "2  Cost:  9.12893289076295\n",
      "3  Cost:  9.004331167417696\n",
      "4  Cost:  8.881507658573481\n",
      "5  Cost:  8.760436986667807\n",
      "6  Cost:  8.641094136310855\n",
      "7  Cost:  8.523454449116745\n",
      "8  Cost:  8.40749361860864\n",
      "9  Cost:  8.293187685196491\n",
      "10  Cost:  8.180513031226504\n",
      "11  Cost:  8.06944637610124\n",
      "12  Cost:  7.959964771469345\n",
      "13  Cost:  7.852045596483957\n",
      "14  Cost:  7.745666553128753\n",
      "15  Cost:  7.640805661610719\n",
      "16  Cost:  7.537441255818693\n",
      "17  Cost:  7.435551978846637\n",
      "18  Cost:  7.335116778580911\n",
      "19  Cost:  7.236114903350426\n",
      "20  Cost:  7.138525897638959\n",
      "21  Cost:  7.042329597858568\n",
      "22  Cost:  6.947506128183412\n",
      "23  Cost:  6.854035896442976\n",
      "24  Cost:  6.761899590073908\n",
      "25  Cost:  6.671078172129675\n",
      "26  Cost:  6.581552877347099\n",
      "27  Cost:  6.49330520826907\n",
      "28  Cost:  6.4063169314226025\n",
      "29  Cost:  6.320570073551401\n",
      "30  Cost:  6.236046917902221\n",
      "31  Cost:  6.152730000564213\n",
      "32  Cost:  6.070602106860508\n",
      "33  Cost:  5.9896462677913345\n",
      "34  Cost:  5.909845756527817\n",
      "35  Cost:  5.831184084955937\n",
      "36  Cost:  5.753645000269654\n",
      "37  Cost:  5.677212481612838\n",
      "38  Cost:  5.601870736768934\n",
      "39  Cost:  5.527604198898034\n",
      "40  Cost:  5.454397523320383\n",
      "41  Cost:  5.382235584345907\n",
      "42  Cost:  5.311103472148865\n",
      "43  Cost:  5.240986489687222\n",
      "44  Cost:  5.171870149665921\n",
      "45  Cost:  5.103740171543481\n",
      "46  Cost:  5.036582478581381\n",
      "47  Cost:  4.970383194935444\n",
      "48  Cost:  4.905128642788893\n",
      "49  Cost:  4.840805339526149\n",
      "50  Cost:  4.7773999949470864\n",
      "51  Cost:  4.714899508520963\n",
      "52  Cost:  4.653290966679628\n",
      "53  Cost:  4.592561640149252\n",
      "54  Cost:  4.532698981320242\n",
      "55  Cost:  4.47369062165462\n",
      "56  Cost:  4.415524369130411\n",
      "57  Cost:  4.358188205722569\n",
      "58  Cost:  4.301670284919736\n",
      "59  Cost:  4.245958929276554\n",
      "60  Cost:  4.19104262800084\n",
      "61  Cost:  4.136910034575227\n",
      "62  Cost:  4.08354996441273\n",
      "63  Cost:  4.030951392545762\n",
      "64  Cost:  3.979103451348186\n",
      "65  Cost:  3.9279954282898037\n",
      "66  Cost:  3.877616763722929\n",
      "67  Cost:  3.8279570487005476\n",
      "68  Cost:  3.7790060228256217\n",
      "69  Cost:  3.730753572131056\n",
      "70  Cost:  3.6831897269899634\n",
      "71  Cost:  3.6363046600557167\n",
      "72  Cost:  3.590088684231416\n",
      "73  Cost:  3.544532250668347\n",
      "74  Cost:  3.4996259467929742\n",
      "75  Cost:  3.4553604943621017\n",
      "76  Cost:  3.411726747545814\n",
      "77  Cost:  3.368715691037749\n",
      "78  Cost:  3.326318438192341\n",
      "79  Cost:  3.2845262291886574\n",
      "80  Cost:  3.243330429220439\n",
      "81  Cost:  3.2027225267119737\n",
      "82  Cost:  3.162694131559426\n",
      "83  Cost:  3.123236973397243\n",
      "84  Cost:  3.0843428998893727\n",
      "85  Cost:  3.0460038750447658\n",
      "86  Cost:  3.0082119775570253\n",
      "87  Cost:  2.9709593991676466\n",
      "88  Cost:  2.9342384430527195\n",
      "89  Cost:  2.898041522232569\n",
      "90  Cost:  2.86236115800414\n",
      "91  Cost:  2.827189978395735\n",
      "92  Cost:  2.7925207166438257\n",
      "93  Cost:  2.7583462096915614\n",
      "94  Cost:  2.724659396708767\n",
      "95  Cost:  2.691453317632995\n",
      "96  Cost:  2.658721111731457\n",
      "97  Cost:  2.6264560161834307\n",
      "98  Cost:  2.594651364682947\n",
      "99  Cost:  2.5633005860613607\n",
      "0.25486396526158384 0.044079120577803686\n"
     ]
    }
   ],
   "source": [
    "run()\n"
   ]
  }
 ],
 "metadata": {
  "kernelspec": {
   "display_name": "Python 3",
   "language": "python",
   "name": "python3"
  },
  "varInspector": {
   "cols": {
    "lenName": 16,
    "lenType": 16,
    "lenVar": 40
   },
   "kernels_config": {
    "python": {
     "delete_cmd_postfix": "",
     "delete_cmd_prefix": "del ",
     "library": "var_list.py",
     "varRefreshCmd": "print(var_dic_list())"
    },
    "r": {
     "delete_cmd_postfix": ") ",
     "delete_cmd_prefix": "rm(",
     "library": "var_list.r",
     "varRefreshCmd": "cat(var_dic_list()) "
    }
   },
   "types_to_exclude": [
    "module",
    "function",
    "builtin_function_or_method",
    "instance",
    "_Feature"
   ],
   "window_display": false
  }
 },
 "nbformat": 4,
 "nbformat_minor": 2
}
